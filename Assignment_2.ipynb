{
  "cells": [
    {
      "cell_type": "markdown",
      "metadata": {
        "id": "view-in-github",
        "colab_type": "text"
      },
      "source": [
        "<a href=\"https://colab.research.google.com/github/Aakash50909/Introduction-To-Python/blob/main/Assignment_2.ipynb\" target=\"_parent\"><img src=\"https://colab.research.google.com/assets/colab-badge.svg\" alt=\"Open In Colab\"/></a>"
      ]
    },
    {
      "cell_type": "code",
      "execution_count": null,
      "id": "63063488",
      "metadata": {
        "colab": {
          "base_uri": "https://localhost:8080/"
        },
        "id": "63063488",
        "outputId": "deeda94a-75bc-4cd1-d812-329d48dcd2a7"
      },
      "outputs": [
        {
          "output_type": "stream",
          "name": "stdout",
          "text": [
            "[10, 20, 30, 40, 50, 60, 70, 80, 200, 300]\n"
          ]
        }
      ],
      "source": [
        "#Question 1\n",
        "L = [10, 20, 30, 40, 50, 60, 70, 80]\n",
        "L.append(200)\n",
        "L.append(300)\n",
        "print(L)"
      ]
    },
    {
      "cell_type": "code",
      "execution_count": null,
      "id": "5bd1e453",
      "metadata": {
        "id": "5bd1e453"
      },
      "outputs": [],
      "source": [
        "L.remove(10)\n",
        "L.remove(30)\n",
        "print(L)"
      ]
    },
    {
      "cell_type": "code",
      "execution_count": null,
      "id": "dd45f992",
      "metadata": {
        "id": "dd45f992"
      },
      "outputs": [],
      "source": [
        "L.sort()\n",
        "print(L)"
      ]
    },
    {
      "cell_type": "code",
      "execution_count": null,
      "id": "ea10ac6e",
      "metadata": {
        "id": "ea10ac6e"
      },
      "outputs": [],
      "source": [
        "L.sort(reverse=True)\n",
        "print(L)"
      ]
    },
    {
      "cell_type": "code",
      "execution_count": null,
      "id": "747e85ef",
      "metadata": {
        "id": "747e85ef"
      },
      "outputs": [],
      "source": [
        "#Question 2\n",
        "scores = (45, 89.5, 76, 45.4, 89, 92, 58, 45)\n",
        "highest = max(scores)\n",
        "highest_index = scores.index(highest)\n",
        "print(highest, highest_index)"
      ]
    },
    {
      "cell_type": "code",
      "execution_count": null,
      "id": "5e5837bf",
      "metadata": {
        "id": "5e5837bf"
      },
      "outputs": [],
      "source": [
        "lowest = min(scores)\n",
        "count_lowest = scores.count(lowest)\n",
        "print(lowest, count_lowest)"
      ]
    },
    {
      "cell_type": "code",
      "execution_count": null,
      "id": "9374822d",
      "metadata": {
        "id": "9374822d"
      },
      "outputs": [],
      "source": [
        "reversed_scores = list(reversed(scores))\n",
        "print(reversed_scores)"
      ]
    },
    {
      "cell_type": "code",
      "execution_count": null,
      "id": "3921c5c3",
      "metadata": {
        "id": "3921c5c3"
      },
      "outputs": [],
      "source": [
        "user_input = 76\n",
        "if user_input in scores:\n",
        "    print(scores.index(user_input))\n",
        "else:\n",
        "    print('Not present')"
      ]
    },
    {
      "cell_type": "code",
      "execution_count": null,
      "id": "a97525db",
      "metadata": {
        "id": "a97525db"
      },
      "outputs": [],
      "source": [
        "#Question 3\n",
        "import random\n",
        "random_numbers = [random.randint(100, 900) for _ in range(100)]\n",
        "print(random_numbers)"
      ]
    },
    {
      "cell_type": "code",
      "execution_count": null,
      "id": "34c59bb3",
      "metadata": {
        "id": "34c59bb3"
      },
      "outputs": [],
      "source": [
        "odd_numbers = [num for num in random_numbers if num % 2 != 0]\n",
        "print(odd_numbers)"
      ]
    },
    {
      "cell_type": "code",
      "execution_count": null,
      "id": "890cfec2",
      "metadata": {
        "id": "890cfec2"
      },
      "outputs": [],
      "source": [
        "even_numbers = [num for num in random_numbers if num % 2 == 0]\n",
        "print(even_numbers)"
      ]
    },
    {
      "cell_type": "code",
      "execution_count": null,
      "id": "5ff540d2",
      "metadata": {
        "id": "5ff540d2"
      },
      "outputs": [],
      "source": [
        "def is_prime(num):\n",
        "    if num < 2:\n",
        "        return False\n",
        "    for i in range(2, int(num**0.5) + 1):\n",
        "        if num % i == 0:\n",
        "            return False\n",
        "    return True\n",
        "\n",
        "prime_numbers = [num for num in random_numbers if is_prime(num)]\n",
        "print(prime_numbers)"
      ]
    },
    {
      "cell_type": "code",
      "execution_count": null,
      "id": "cf89badf",
      "metadata": {
        "id": "cf89badf"
      },
      "outputs": [],
      "source": [
        "#Question 4\n",
        "A = {34, 56, 78, 90}\n",
        "B = {78, 45, 90, 23}\n",
        "union = A.union(B)\n",
        "print(union)"
      ]
    },
    {
      "cell_type": "code",
      "execution_count": null,
      "id": "039ba316",
      "metadata": {
        "id": "039ba316"
      },
      "outputs": [],
      "source": [
        "intersection = A.intersection(B)\n",
        "print(intersection)"
      ]
    },
    {
      "cell_type": "code",
      "execution_count": null,
      "id": "fb099de9",
      "metadata": {
        "id": "fb099de9"
      },
      "outputs": [],
      "source": [
        "symmetric_difference = A.symmetric_difference(B)\n",
        "print(symmetric_difference)"
      ]
    },
    {
      "cell_type": "code",
      "execution_count": null,
      "id": "4274f062",
      "metadata": {
        "id": "4274f062"
      },
      "outputs": [],
      "source": [
        "is_subset = A.issubset(B)\n",
        "is_superset = B.issuperset(A)\n",
        "print(is_subset, is_superset)"
      ]
    },
    {
      "cell_type": "code",
      "execution_count": null,
      "id": "0be6648a",
      "metadata": {
        "id": "0be6648a"
      },
      "outputs": [],
      "source": [
        "X = 78\n",
        "if X in A:\n",
        "    A.remove(X)\n",
        "    print(A)\n",
        "else:\n",
        "    print('Not present')"
      ]
    },
    {
      "cell_type": "code",
      "execution_count": null,
      "id": "101bf171",
      "metadata": {
        "id": "101bf171"
      },
      "outputs": [],
      "source": [
        "#Question 5\n",
        "dictionary = {'city': 'New York', 'population': 8500000}\n",
        "dictionary['location'] = dictionary.pop('city')\n",
        "print(dictionary)"
      ]
    }
  ],
  "metadata": {
    "colab": {
      "provenance": [],
      "include_colab_link": true
    },
    "language_info": {
      "name": "python"
    },
    "kernelspec": {
      "name": "python3",
      "display_name": "Python 3"
    }
  },
  "nbformat": 4,
  "nbformat_minor": 5
}