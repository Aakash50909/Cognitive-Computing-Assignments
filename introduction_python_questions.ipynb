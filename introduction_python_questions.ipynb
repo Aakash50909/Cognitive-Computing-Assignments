{
  "cells": [
    {
      "cell_type": "code",
      "execution_count": 1,
      "id": "7d93bcbd",
      "metadata": {
        "colab": {
          "base_uri": "https://localhost:8080/"
        },
        "id": "7d93bcbd",
        "outputId": "65ed85fe-311e-473f-be67-690459c9f5e6"
      },
      "outputs": [
        {
          "output_type": "stream",
          "name": "stdout",
          "text": [
            "Bye World\n"
          ]
        }
      ],
      "source": [
        "print(\"Bye World\")"
      ]
    },
    {
      "cell_type": "code",
      "execution_count": null,
      "id": "bbe892bd",
      "metadata": {
        "id": "bbe892bd"
      },
      "outputs": [],
      "source": [
        "x = 3\n",
        "y = 7\n",
        "print(x + y)"
      ]
    },
    {
      "cell_type": "code",
      "execution_count": null,
      "id": "dde87a12",
      "metadata": {
        "id": "dde87a12"
      },
      "outputs": [],
      "source": [
        "string1 = \"Hello, \"\n",
        "string2 = \"World!\"\n",
        "print(string1 + string2)"
      ]
    },
    {
      "cell_type": "code",
      "execution_count": null,
      "id": "88e460b5",
      "metadata": {
        "id": "88e460b5"
      },
      "outputs": [],
      "source": [
        "string3 = \"The number is \"\n",
        "number = 42\n",
        "print(string3 + str(number))"
      ]
    },
    {
      "cell_type": "code",
      "execution_count": null,
      "id": "7e3486d7",
      "metadata": {
        "id": "7e3486d7"
      },
      "outputs": [],
      "source": [
        "num = -5\n",
        "if num > 0:\n",
        "    print(\"Positive\")\n",
        "elif num == 0:\n",
        "    print(\"Zero\")\n",
        "else:\n",
        "    print(\"Negative\")"
      ]
    },
    {
      "cell_type": "code",
      "execution_count": null,
      "id": "dc16ef5f",
      "metadata": {
        "id": "dc16ef5f"
      },
      "outputs": [],
      "source": [
        "num = 4\n",
        "if num % 2 == 0:\n",
        "    print(\"Even\")\n",
        "else:\n",
        "    print(\"Odd\")"
      ]
    },
    {
      "cell_type": "code",
      "execution_count": null,
      "id": "5f69408e",
      "metadata": {
        "id": "5f69408e"
      },
      "outputs": [],
      "source": [
        "for i in range(1, 11):\n",
        "    print(i)"
      ]
    },
    {
      "cell_type": "code",
      "execution_count": null,
      "id": "1a3bd363",
      "metadata": {
        "id": "1a3bd363"
      },
      "outputs": [],
      "source": [
        "counter = 1\n",
        "while counter <= 10:\n",
        "    print(counter)\n",
        "    counter += 1"
      ]
    },
    {
      "cell_type": "code",
      "execution_count": null,
      "id": "106d2b48",
      "metadata": {
        "id": "106d2b48"
      },
      "outputs": [],
      "source": [
        "sum_numbers = 0\n",
        "for i in range(1, 101):\n",
        "    sum_numbers += i\n",
        "print(sum_numbers)"
      ]
    },
    {
      "cell_type": "code",
      "execution_count": null,
      "id": "9141148e",
      "metadata": {
        "id": "9141148e"
      },
      "outputs": [],
      "source": [
        "numbers = [12, 7, 19, 3, 5]\n",
        "print(max(numbers))\n",
        "print(min(numbers))"
      ]
    },
    {
      "cell_type": "code",
      "execution_count": null,
      "id": "b4e532f3",
      "metadata": {
        "id": "b4e532f3"
      },
      "outputs": [],
      "source": [
        "dictionary = {\"a\": 1, \"b\": 2, \"c\": 3}\n",
        "print(dictionary[\"b\"])"
      ]
    },
    {
      "cell_type": "code",
      "execution_count": null,
      "id": "f2d843bd",
      "metadata": {
        "id": "f2d843bd"
      },
      "outputs": [],
      "source": [
        "numbers.sort()\n",
        "print(numbers)\n",
        "numbers.sort(reverse=True)\n",
        "print(numbers)"
      ]
    },
    {
      "cell_type": "code",
      "execution_count": null,
      "id": "0bf62892",
      "metadata": {
        "id": "0bf62892"
      },
      "outputs": [],
      "source": [
        "dict1 = {\"x\": 1, \"y\": 2}\n",
        "dict2 = {\"z\": 3}\n",
        "dict1.update(dict2)\n",
        "print(dict1)"
      ]
    },
    {
      "cell_type": "code",
      "execution_count": null,
      "id": "6c36d93e",
      "metadata": {
        "id": "6c36d93e"
      },
      "outputs": [],
      "source": [
        "string = \"hello world\"\n",
        "vowels = \"aeiou\"\n",
        "count = sum(1 for char in string if char in vowels)\n",
        "print(count)"
      ]
    },
    {
      "cell_type": "code",
      "execution_count": null,
      "id": "e4c60f65",
      "metadata": {
        "id": "e4c60f65"
      },
      "outputs": [],
      "source": [
        "print(string[::-1])"
      ]
    },
    {
      "cell_type": "code",
      "execution_count": null,
      "id": "1c7eef99",
      "metadata": {
        "id": "1c7eef99"
      },
      "outputs": [],
      "source": [
        "palindrome = \"radar\"\n",
        "if palindrome == palindrome[::-1]:\n",
        "    print(\"Palindrome\")\n",
        "else:\n",
        "    print(\"Not Palindrome\")"
      ]
    },
    {
      "cell_type": "code",
      "execution_count": null,
      "id": "ccb33d6a",
      "metadata": {
        "id": "ccb33d6a"
      },
      "outputs": [],
      "source": [
        "with open(\"example.txt\", \"w\") as file:\n",
        "    file.write(\"Hello, this is a test file.\")\n",
        "with open(\"example.txt\", \"r\") as file:\n",
        "    print(file.read())"
      ]
    },
    {
      "cell_type": "code",
      "execution_count": null,
      "id": "4d8885f8",
      "metadata": {
        "id": "4d8885f8"
      },
      "outputs": [],
      "source": [
        "with open(\"example.txt\", \"a\") as file:\n",
        "    file.write(\"\\nAdding more content.\")\n",
        "with open(\"example.txt\", \"r\") as file:\n",
        "    print(file.read())"
      ]
    },
    {
      "cell_type": "code",
      "execution_count": null,
      "id": "9e3897f5",
      "metadata": {
        "id": "9e3897f5"
      },
      "outputs": [],
      "source": [
        "with open(\"example.txt\", \"r\") as file:\n",
        "    print(len(file.readlines()))"
      ]
    },
    {
      "cell_type": "code",
      "execution_count": null,
      "id": "88dd25c7",
      "metadata": {
        "id": "88dd25c7"
      },
      "outputs": [],
      "source": [
        "try:\n",
        "    result = 10 / 0\n",
        "except ZeroDivisionError:\n",
        "    print(\"Cannot divide by zero.\")"
      ]
    },
    {
      "cell_type": "code",
      "execution_count": null,
      "id": "67a94d2f",
      "metadata": {
        "id": "67a94d2f"
      },
      "outputs": [],
      "source": [
        "try:\n",
        "    num = int(\"not a number\")\n",
        "except ValueError:\n",
        "    print(\"Invalid input.\")\n",
        "finally:\n",
        "    print(\"End of exception handling.\")"
      ]
    },
    {
      "cell_type": "code",
      "execution_count": null,
      "id": "deb2abba",
      "metadata": {
        "id": "deb2abba"
      },
      "outputs": [],
      "source": [
        "import random\n",
        "for _ in range(5):\n",
        "    print(random.randint(1, 100))"
      ]
    },
    {
      "cell_type": "code",
      "execution_count": null,
      "id": "0c0f0b29",
      "metadata": {
        "id": "0c0f0b29"
      },
      "outputs": [],
      "source": [
        "num = random.randint(1, 100)\n",
        "is_prime = all(num % i != 0 for i in range(2, int(num**0.5) + 1))\n",
        "print(f\"{num} is prime: {is_prime}\")"
      ]
    },
    {
      "cell_type": "code",
      "execution_count": null,
      "id": "1d606700",
      "metadata": {
        "id": "1d606700"
      },
      "outputs": [],
      "source": [
        "print(random.randint(1, 6))"
      ]
    },
    {
      "cell_type": "code",
      "execution_count": null,
      "id": "23adcdf3",
      "metadata": {
        "id": "23adcdf3"
      },
      "outputs": [],
      "source": [
        "nums = [1, 2, 3, 4, 5]\n",
        "random.shuffle(nums)\n",
        "print(nums)"
      ]
    },
    {
      "cell_type": "code",
      "execution_count": null,
      "id": "bfbcf616",
      "metadata": {
        "id": "bfbcf616"
      },
      "outputs": [],
      "source": [
        "print(random.choice(nums))"
      ]
    },
    {
      "cell_type": "code",
      "execution_count": null,
      "id": "31a4a0e7",
      "metadata": {
        "id": "31a4a0e7"
      },
      "outputs": [],
      "source": [
        "password = ''.join(random.choices(\"abcdefghijklmnopqrstuvwxyzABCDEFGHIJKLMNOPQRSTUVWXYZ0123456789\", k=8))\n",
        "print(password)"
      ]
    },
    {
      "cell_type": "code",
      "execution_count": null,
      "id": "45f7bb4c",
      "metadata": {
        "id": "45f7bb4c"
      },
      "outputs": [],
      "source": [
        "suits = [\"Hearts\", \"Diamonds\", \"Clubs\", \"Spades\"]\n",
        "values = [\"2\", \"3\", \"4\", \"5\", \"6\", \"7\", \"8\", \"9\", \"10\", \"Jack\", \"Queen\", \"King\", \"Ace\"]\n",
        "deck = [f\"{value} of {suit}\" for suit in suits for value in values]\n",
        "print(random.choice(deck))"
      ]
    },
    {
      "cell_type": "code",
      "execution_count": null,
      "id": "ac17807f",
      "metadata": {
        "id": "ac17807f"
      },
      "outputs": [],
      "source": [
        "import math\n",
        "print(math.sqrt(16))"
      ]
    },
    {
      "cell_type": "code",
      "execution_count": null,
      "id": "10695dc7",
      "metadata": {
        "id": "10695dc7"
      },
      "outputs": [],
      "source": [
        "from datetime import datetime\n",
        "print(datetime.now())"
      ]
    },
    {
      "cell_type": "code",
      "execution_count": null,
      "id": "a08ab394",
      "metadata": {
        "id": "a08ab394"
      },
      "outputs": [],
      "source": [
        "import os\n",
        "print(os.listdir())"
      ]
    }
  ],
  "metadata": {
    "colab": {
      "provenance": []
    },
    "language_info": {
      "name": "python"
    },
    "kernelspec": {
      "name": "python3",
      "display_name": "Python 3"
    }
  },
  "nbformat": 4,
  "nbformat_minor": 5
}