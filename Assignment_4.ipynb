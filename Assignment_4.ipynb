{
  "nbformat": 4,
  "nbformat_minor": 0,
  "metadata": {
    "colab": {
      "provenance": [],
      "authorship_tag": "ABX9TyNl7whd3XWtykNhBhc3T7UE",
      "include_colab_link": true
    },
    "kernelspec": {
      "name": "python3",
      "display_name": "Python 3"
    },
    "language_info": {
      "name": "python"
    }
  },
  "cells": [
    {
      "cell_type": "markdown",
      "metadata": {
        "id": "view-in-github",
        "colab_type": "text"
      },
      "source": [
        "<a href=\"https://colab.research.google.com/github/Aakash50909/Cognitive-Computing-Assignments/blob/main/Assignment_4.ipynb\" target=\"_parent\"><img src=\"https://colab.research.google.com/assets/colab-badge.svg\" alt=\"Open In Colab\"/></a>"
      ]
    },
    {
      "cell_type": "code",
      "execution_count": 4,
      "metadata": {
        "colab": {
          "base_uri": "https://localhost:8080/"
        },
        "id": "H4rMhIcm9pQQ",
        "outputId": "57398af5-6f00-4897-ed77-12b01d01fc73"
      },
      "outputs": [
        {
          "output_type": "stream",
          "name": "stdout",
          "text": [
            "[3 4 5 6 7]\n",
            "[ 3  6  9 12 15]\n",
            "[0.5 1.  1.5 2.  2.5]\n"
          ]
        }
      ],
      "source": [
        "import numpy as np\n",
        "#Question 1\n",
        "a=np.array([1,2,3,4,5])\n",
        "a+=2\n",
        "print(a)\n",
        "a-=2\n",
        "a*=3\n",
        "print(a)\n",
        "a=a/3\n",
        "a/=2\n",
        "print(a)"
      ]
    },
    {
      "cell_type": "code",
      "source": [
        "#Question 2\n",
        "arr=np.array([1,2,3,6,4,5])\n",
        "reverse_arr=np.flip(arr)\n",
        "print(reverse_arr)\n",
        "x=np.array([1,2,3,4,5,1,2,1,1,1])\n",
        "y=np.array([1,1,1,2,3,4,2,4,3,3])\n",
        "most_freq=np.bincount(x).argmax()\n",
        "print(most_freq)\n",
        "indices=np.where(x==most_freq)[0]\n",
        "print(indices)\n",
        "most_freq=np.bincount(y).argmax()\n",
        "print(most_freq)\n",
        "indices=np.where(y==most_freq)[0]#np.unique if two numbers clash\n",
        "print(indices)\n"
      ],
      "metadata": {
        "colab": {
          "base_uri": "https://localhost:8080/"
        },
        "id": "j-W2k-PaANhF",
        "outputId": "98d381ec-0515-4c24-8b1e-e18232ab14e2"
      },
      "execution_count": 14,
      "outputs": [
        {
          "output_type": "stream",
          "name": "stdout",
          "text": [
            "[5 4 6 3 2 1]\n",
            "1\n",
            "[0 5 7 8 9]\n",
            "1\n",
            "[0 1 2]\n"
          ]
        }
      ]
    },
    {
      "cell_type": "code",
      "source": [
        "#Question 3\n",
        "arr=np.array([[10, 20, 30],\n",
        "             [40, 50, 60],\n",
        "             [70, 80, 90]])\n",
        "arr[0][1]\n",
        "arr[2][0]"
      ],
      "metadata": {
        "colab": {
          "base_uri": "https://localhost:8080/"
        },
        "id": "x7k1-sCLBAqa",
        "outputId": "6bdec79b-5240-42a5-8334-69370dd8c39f"
      },
      "execution_count": 19,
      "outputs": [
        {
          "output_type": "execute_result",
          "data": {
            "text/plain": [
              "70"
            ]
          },
          "metadata": {},
          "execution_count": 19
        }
      ]
    },
    {
      "cell_type": "code",
      "source": [
        "#Question 4\n",
        "Aakash_Chandra=np.array(np.linspace(10,100,25))\n",
        "print(Aakash_Chandra)\n",
        "print(\"Dimensions:\",Aakash_Chandra.ndim)\n",
        "print(\"Shape:\",Aakash_Chandra.shape)\n",
        "print(\"Total Elements:\",Aakash_Chandra.size)\n",
        "print(\"Data Type:\",Aakash_Chandra.dtype)\n",
        "print(\"Total bytes consumed\",Aakash_Chandra.nbytes)\n",
        "print(\"Transpose Array:\\n\",Aakash_Chandra.reshape(-1,1))#COLUMN_VECTOR AS TRANSPOSE ASSUMED\n",
        "print(\"Using T attribute:\\n\",Aakash_Chandra.T)#NotPossible FOR 1D"
      ],
      "metadata": {
        "colab": {
          "base_uri": "https://localhost:8080/"
        },
        "id": "5mbDrXVPDr_O",
        "outputId": "e0d4f765-ce85-4da8-bdc9-08d2e7032d09"
      },
      "execution_count": 37,
      "outputs": [
        {
          "output_type": "stream",
          "name": "stdout",
          "text": [
            "[ 10.    13.75  17.5   21.25  25.    28.75  32.5   36.25  40.    43.75\n",
            "  47.5   51.25  55.    58.75  62.5   66.25  70.    73.75  77.5   81.25\n",
            "  85.    88.75  92.5   96.25 100.  ]\n",
            "Dimensions: 1\n",
            "Shape: (25,)\n",
            "Total Elements: 25\n",
            "Data Type: float64\n",
            "Total bytes consumed 200\n",
            "Transpose Array:\n",
            " [[ 10.  ]\n",
            " [ 13.75]\n",
            " [ 17.5 ]\n",
            " [ 21.25]\n",
            " [ 25.  ]\n",
            " [ 28.75]\n",
            " [ 32.5 ]\n",
            " [ 36.25]\n",
            " [ 40.  ]\n",
            " [ 43.75]\n",
            " [ 47.5 ]\n",
            " [ 51.25]\n",
            " [ 55.  ]\n",
            " [ 58.75]\n",
            " [ 62.5 ]\n",
            " [ 66.25]\n",
            " [ 70.  ]\n",
            " [ 73.75]\n",
            " [ 77.5 ]\n",
            " [ 81.25]\n",
            " [ 85.  ]\n",
            " [ 88.75]\n",
            " [ 92.5 ]\n",
            " [ 96.25]\n",
            " [100.  ]]\n",
            "Using T attribute:\n",
            " [ 10.    13.75  17.5   21.25  25.    28.75  32.5   36.25  40.    43.75\n",
            "  47.5   51.25  55.    58.75  62.5   66.25  70.    73.75  77.5   81.25\n",
            "  85.    88.75  92.5   96.25 100.  ]\n"
          ]
        }
      ]
    },
    {
      "cell_type": "code",
      "source": [
        "#Question 5\n",
        "ucs420_Aakash=np.array([[10,20,30,40],[50,60,70,80],[90,15,20,35]])\n",
        "print(ucs420_Aakash)\n",
        "print(\"Mean:\",ucs420_Aakash.mean())\n",
        "print(\"Median:\",np.median(ucs420_Aakash))\n",
        "print(\"Max:\",ucs420_Aakash.max())\n",
        "print(\"Min:\",ucs420_Aakash.min())\n",
        "print(\"Unique Elements:\",np.unique(ucs420_Aakash))\n",
        "reshaped_ucs420_Aakash=ucs420_Aakash.reshape(4,3)\n",
        "resized_ucs420_Aakash=np.resize(ucs420_Aakash,(2,3))\n",
        "print(\"Reshaped Array:\\n\",reshaped_ucs420_Aakash)\n",
        "print(\"Resized Array:\\n\",resized_ucs420_Aakash)"
      ],
      "metadata": {
        "colab": {
          "base_uri": "https://localhost:8080/"
        },
        "id": "g3plS4WaEI_M",
        "outputId": "6f455a80-b72e-4856-bd06-dc0d56f32040"
      },
      "execution_count": 50,
      "outputs": [
        {
          "output_type": "stream",
          "name": "stdout",
          "text": [
            "[[10 20 30 40]\n",
            " [50 60 70 80]\n",
            " [90 15 20 35]]\n",
            "Mean: 43.333333333333336\n",
            "Median: 37.5\n",
            "Max: 90\n",
            "Min: 10\n",
            "Unique Elements: [10 15 20 30 35 40 50 60 70 80 90]\n",
            "Reshaped Array:\n",
            " [[10 20 30]\n",
            " [40 50 60]\n",
            " [70 80 90]\n",
            " [15 20 35]]\n",
            "Resized Array:\n",
            " [[10 20 30]\n",
            " [40 50 60]]\n"
          ]
        }
      ]
    }
  ]
}