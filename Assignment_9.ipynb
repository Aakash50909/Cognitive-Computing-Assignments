{
  "nbformat": 4,
  "nbformat_minor": 0,
  "metadata": {
    "colab": {
      "provenance": [],
      "authorship_tag": "ABX9TyON8q5T2/Gfmd0Q+yX9y9lh",
      "include_colab_link": true
    },
    "kernelspec": {
      "name": "python3",
      "display_name": "Python 3"
    },
    "language_info": {
      "name": "python"
    }
  },
  "cells": [
    {
      "cell_type": "markdown",
      "metadata": {
        "id": "view-in-github",
        "colab_type": "text"
      },
      "source": [
        "<a href=\"https://colab.research.google.com/github/Aakash50909/Cognitive-Computing-Assignments/blob/main/Assignment_9.ipynb\" target=\"_parent\"><img src=\"https://colab.research.google.com/assets/colab-badge.svg\" alt=\"Open In Colab\"/></a>"
      ]
    },
    {
      "cell_type": "code",
      "source": [
        "import nltk\n",
        "nltk.download('stopwords')\n",
        "nltk.download('punkt_tab')\n",
        "from nltk.tokenize import sent_tokenize\n",
        "text=\"\"\"Tate McRae is a Canadian pop singer known for her emotional lyrics and moody, catchy sound. Her voice has an airy, breathy tone that makes her music feel intimate and honest. She often sings about heartbreak, confusion, and growing up, capturing the messy emotions of youth. There's a soft vulnerability in her songs, but also a quiet strength that shines through. Her vibe is real and raw, with a cool edge that feels effortless. Whether she's dancing or singing, she brings a unique energy that makes her stand out in today’s pop scene.\"\"\"\n",
        "tokens= nltk.word_tokenize(text)\n",
        "print(tokens)\n",
        "tokens2=sent_tokenize(text)\n",
        "print(tokens2)\n",
        "remove_stopwords=[word for word in tokens if word not in nltk.corpus.stopwords.words('english')]\n",
        "print(remove_stopwords)\n"
      ],
      "metadata": {
        "colab": {
          "base_uri": "https://localhost:8080/"
        },
        "id": "qIZKjOzlcZHt",
        "outputId": "cf6a4753-bc90-4184-fcd2-f43c086a0b86"
      },
      "execution_count": 21,
      "outputs": [
        {
          "output_type": "stream",
          "name": "stdout",
          "text": [
            "['Tate', 'McRae', 'is', 'a', 'Canadian', 'pop', 'singer', 'known', 'for', 'her', 'emotional', 'lyrics', 'and', 'moody', ',', 'catchy', 'sound', '.', 'Her', 'voice', 'has', 'an', 'airy', ',', 'breathy', 'tone', 'that', 'makes', 'her', 'music', 'feel', 'intimate', 'and', 'honest', '.', 'She', 'often', 'sings', 'about', 'heartbreak', ',', 'confusion', ',', 'and', 'growing', 'up', ',', 'capturing', 'the', 'messy', 'emotions', 'of', 'youth', '.', 'There', \"'s\", 'a', 'soft', 'vulnerability', 'in', 'her', 'songs', ',', 'but', 'also', 'a', 'quiet', 'strength', 'that', 'shines', 'through', '.', 'Her', 'vibe', 'is', 'real', 'and', 'raw', ',', 'with', 'a', 'cool', 'edge', 'that', 'feels', 'effortless', '.', 'Whether', 'she', \"'s\", 'dancing', 'or', 'singing', ',', 'she', 'brings', 'a', 'unique', 'energy', 'that', 'makes', 'her', 'stand', 'out', 'in', 'today', '’', 's', 'pop', 'scene', '.']\n",
            "['Tate McRae is a Canadian pop singer known for her emotional lyrics and moody, catchy sound.', 'Her voice has an airy, breathy tone that makes her music feel intimate and honest.', 'She often sings about heartbreak, confusion, and growing up, capturing the messy emotions of youth.', \"There's a soft vulnerability in her songs, but also a quiet strength that shines through.\", 'Her vibe is real and raw, with a cool edge that feels effortless.', \"Whether she's dancing or singing, she brings a unique energy that makes her stand out in today’s pop scene.\"]\n",
            "['Tate', 'McRae', 'Canadian', 'pop', 'singer', 'known', 'emotional', 'lyrics', 'moody', ',', 'catchy', 'sound', '.', 'Her', 'voice', 'airy', ',', 'breathy', 'tone', 'makes', 'music', 'feel', 'intimate', 'honest', '.', 'She', 'often', 'sings', 'heartbreak', ',', 'confusion', ',', 'growing', ',', 'capturing', 'messy', 'emotions', 'youth', '.', 'There', \"'s\", 'soft', 'vulnerability', 'songs', ',', 'also', 'quiet', 'strength', 'shines', '.', 'Her', 'vibe', 'real', 'raw', ',', 'cool', 'edge', 'feels', 'effortless', '.', 'Whether', \"'s\", 'dancing', 'singing', ',', 'brings', 'unique', 'energy', 'makes', 'stand', 'today', '’', 'pop', 'scene', '.']\n"
          ]
        },
        {
          "output_type": "stream",
          "name": "stderr",
          "text": [
            "[nltk_data] Downloading package stopwords to /root/nltk_data...\n",
            "[nltk_data]   Unzipping corpora/stopwords.zip.\n",
            "[nltk_data] Downloading package punkt_tab to /root/nltk_data...\n",
            "[nltk_data]   Package punkt_tab is already up-to-date!\n"
          ]
        }
      ]
    },
    {
      "cell_type": "code",
      "source": [
        "from nltk.stem import PorterStemmer\n",
        "from nltk.tokenize import word_tokenize\n",
        "ps = PorterStemmer()\n",
        "for token in remove_stopwords:\n",
        "  print(token, \" : \", ps.stem(token))"
      ],
      "metadata": {
        "colab": {
          "base_uri": "https://localhost:8080/"
        },
        "id": "i4ZQ9RameN7B",
        "outputId": "c794c8fc-684e-4d0e-ae88-829514b2041b"
      },
      "execution_count": 24,
      "outputs": [
        {
          "output_type": "stream",
          "name": "stdout",
          "text": [
            "Tate  :  tate\n",
            "McRae  :  mcrae\n",
            "Canadian  :  canadian\n",
            "pop  :  pop\n",
            "singer  :  singer\n",
            "known  :  known\n",
            "emotional  :  emot\n",
            "lyrics  :  lyric\n",
            "moody  :  moodi\n",
            ",  :  ,\n",
            "catchy  :  catchi\n",
            "sound  :  sound\n",
            ".  :  .\n",
            "Her  :  her\n",
            "voice  :  voic\n",
            "airy  :  airi\n",
            ",  :  ,\n",
            "breathy  :  breathi\n",
            "tone  :  tone\n",
            "makes  :  make\n",
            "music  :  music\n",
            "feel  :  feel\n",
            "intimate  :  intim\n",
            "honest  :  honest\n",
            ".  :  .\n",
            "She  :  she\n",
            "often  :  often\n",
            "sings  :  sing\n",
            "heartbreak  :  heartbreak\n",
            ",  :  ,\n",
            "confusion  :  confus\n",
            ",  :  ,\n",
            "growing  :  grow\n",
            ",  :  ,\n",
            "capturing  :  captur\n",
            "messy  :  messi\n",
            "emotions  :  emot\n",
            "youth  :  youth\n",
            ".  :  .\n",
            "There  :  there\n",
            "'s  :  's\n",
            "soft  :  soft\n",
            "vulnerability  :  vulner\n",
            "songs  :  song\n",
            ",  :  ,\n",
            "also  :  also\n",
            "quiet  :  quiet\n",
            "strength  :  strength\n",
            "shines  :  shine\n",
            ".  :  .\n",
            "Her  :  her\n",
            "vibe  :  vibe\n",
            "real  :  real\n",
            "raw  :  raw\n",
            ",  :  ,\n",
            "cool  :  cool\n",
            "edge  :  edg\n",
            "feels  :  feel\n",
            "effortless  :  effortless\n",
            ".  :  .\n",
            "Whether  :  whether\n",
            "'s  :  's\n",
            "dancing  :  danc\n",
            "singing  :  sing\n",
            ",  :  ,\n",
            "brings  :  bring\n",
            "unique  :  uniqu\n",
            "energy  :  energi\n",
            "makes  :  make\n",
            "stand  :  stand\n",
            "today  :  today\n",
            "’  :  ’\n",
            "pop  :  pop\n",
            "scene  :  scene\n",
            ".  :  .\n"
          ]
        }
      ]
    },
    {
      "cell_type": "code",
      "source": [
        "import nltk\n",
        "from nltk.stem import LancasterStemmer\n",
        "nltk.download('punkt')\n",
        "lancaster = LancasterStemmer()\n",
        "for word in remove_stopwords:\n",
        "    print(f\"{word} -> {lancaster.stem(word)}\")\n"
      ],
      "metadata": {
        "colab": {
          "base_uri": "https://localhost:8080/"
        },
        "id": "tjc_Vj75ggZw",
        "outputId": "d8753556-52bf-48ec-9734-9d3cc6d53d66"
      },
      "execution_count": 26,
      "outputs": [
        {
          "output_type": "stream",
          "name": "stdout",
          "text": [
            "Tate -> tat\n",
            "McRae -> mcrae\n",
            "Canadian -> canad\n",
            "pop -> pop\n",
            "singer -> sing\n",
            "known -> known\n",
            "emotional -> emot\n",
            "lyrics -> lyr\n",
            "moody -> moody\n",
            ", -> ,\n",
            "catchy -> catchy\n",
            "sound -> sound\n",
            ". -> .\n",
            "Her -> her\n",
            "voice -> voic\n",
            "airy -> airy\n",
            ", -> ,\n",
            "breathy -> breathy\n",
            "tone -> ton\n",
            "makes -> mak\n",
            "music -> mus\n",
            "feel -> feel\n",
            "intimate -> intim\n",
            "honest -> honest\n",
            ". -> .\n",
            "She -> she\n",
            "often -> oft\n",
            "sings -> sing\n",
            "heartbreak -> heartbreak\n",
            ", -> ,\n",
            "confusion -> confus\n",
            ", -> ,\n",
            "growing -> grow\n",
            ", -> ,\n",
            "capturing -> capt\n",
            "messy -> messy\n",
            "emotions -> emot\n",
            "youth -> you\n",
            ". -> .\n",
            "There -> ther\n",
            "'s -> 's\n",
            "soft -> soft\n",
            "vulnerability -> vuln\n",
            "songs -> song\n",
            ", -> ,\n",
            "also -> also\n",
            "quiet -> quiet\n",
            "strength -> strength\n",
            "shines -> shin\n",
            ". -> .\n",
            "Her -> her\n",
            "vibe -> vib\n",
            "real -> real\n",
            "raw -> raw\n",
            ", -> ,\n",
            "cool -> cool\n",
            "edge -> edg\n",
            "feels -> feel\n",
            "effortless -> effortless\n",
            ". -> .\n",
            "Whether -> wheth\n",
            "'s -> 's\n",
            "dancing -> dant\n",
            "singing -> sing\n",
            ", -> ,\n",
            "brings -> bring\n",
            "unique -> un\n",
            "energy -> energy\n",
            "makes -> mak\n",
            "stand -> stand\n",
            "today -> today\n",
            "’ -> ’\n",
            "pop -> pop\n",
            "scene -> scen\n",
            ". -> .\n"
          ]
        },
        {
          "output_type": "stream",
          "name": "stderr",
          "text": [
            "[nltk_data] Downloading package punkt to /root/nltk_data...\n",
            "[nltk_data]   Package punkt is already up-to-date!\n"
          ]
        }
      ]
    },
    {
      "cell_type": "code",
      "source": [
        "import nltk\n",
        "nltk.download('wordnet')\n",
        "from nltk.stem import WordNetLemmatizer\n",
        "lemmatizer = WordNetLemmatizer()\n",
        "lemmatized_words = [lemmatizer.lemmatize(word) for word in remove_stopwords]\n",
        "print(lemmatized_words)"
      ],
      "metadata": {
        "colab": {
          "base_uri": "https://localhost:8080/"
        },
        "id": "8HCj-vGYiDlJ",
        "outputId": "d88a1665-9ee5-4276-9493-3c0647d37d07"
      },
      "execution_count": 29,
      "outputs": [
        {
          "output_type": "stream",
          "name": "stderr",
          "text": [
            "[nltk_data] Downloading package wordnet to /root/nltk_data...\n"
          ]
        },
        {
          "output_type": "stream",
          "name": "stdout",
          "text": [
            "['Tate', 'McRae', 'Canadian', 'pop', 'singer', 'known', 'emotional', 'lyric', 'moody', ',', 'catchy', 'sound', '.', 'Her', 'voice', 'airy', ',', 'breathy', 'tone', 'make', 'music', 'feel', 'intimate', 'honest', '.', 'She', 'often', 'sings', 'heartbreak', ',', 'confusion', ',', 'growing', ',', 'capturing', 'messy', 'emotion', 'youth', '.', 'There', \"'s\", 'soft', 'vulnerability', 'song', ',', 'also', 'quiet', 'strength', 'shine', '.', 'Her', 'vibe', 'real', 'raw', ',', 'cool', 'edge', 'feel', 'effortless', '.', 'Whether', \"'s\", 'dancing', 'singing', ',', 'brings', 'unique', 'energy', 'make', 'stand', 'today', '’', 'pop', 'scene', '.']\n"
          ]
        }
      ]
    },
    {
      "cell_type": "code",
      "source": [
        "import re\n",
        "text=\"\"\"Tate McRae is a Canadian pop singer known for her emotional lyrics and moody, catchy sound. Her voice has an airy, breathy tone that makes her music feel intimate and honest. She often sings about heartbreak, confusion, and growing up, capturing the messy emotions of youth. There's a soft vulnerability in her songs, but also a quiet strength that shines through. Her vibe is real and raw, with a cool edge that feels effortless. Whether she's dancing or singing, she brings a unique energy that makes her stand out in today’s pop scene.\"\"\"\n",
        "def custom_tokenize(text):\n",
        "    pattern = r\"\\b(?:\\d+\\.\\d+|\\d+|[a-zA-Z]+(?:-[a-zA-Z]+)*|'[a-zA-Z]+)\\b\"\n",
        "    tokens = re.findall(pattern, text)\n",
        "    return tokens\n",
        "print(custom_tokenize(text))"
      ],
      "metadata": {
        "colab": {
          "base_uri": "https://localhost:8080/"
        },
        "id": "Bf3wBus4jnWP",
        "outputId": "3bec0b4e-3ca7-4bf4-bf76-a92d3014be3e"
      },
      "execution_count": 10,
      "outputs": [
        {
          "output_type": "stream",
          "name": "stdout",
          "text": [
            "['Tate', 'McRae', 'is', 'a', 'Canadian', 'pop', 'singer', 'known', 'for', 'her', 'emotional', 'lyrics', 'and', 'moody', 'catchy', 'sound', 'Her', 'voice', 'has', 'an', 'airy', 'breathy', 'tone', 'that', 'makes', 'her', 'music', 'feel', 'intimate', 'and', 'honest', 'She', 'often', 'sings', 'about', 'heartbreak', 'confusion', 'and', 'growing', 'up', 'capturing', 'the', 'messy', 'emotions', 'of', 'youth', 'There', \"'s\", 'a', 'soft', 'vulnerability', 'in', 'her', 'songs', 'but', 'also', 'a', 'quiet', 'strength', 'that', 'shines', 'through', 'Her', 'vibe', 'is', 'real', 'and', 'raw', 'with', 'a', 'cool', 'edge', 'that', 'feels', 'effortless', 'Whether', 'she', \"'s\", 'dancing', 'or', 'singing', 'she', 'brings', 'a', 'unique', 'energy', 'that', 'makes', 'her', 'stand', 'out', 'in', 'today', 's', 'pop', 'scene']\n"
          ]
        }
      ]
    },
    {
      "cell_type": "code",
      "source": [
        "import re\n",
        "\n",
        "def clean_text(text):\n",
        "    # Replace email addresses\n",
        "    text = re.sub(r'\\b[\\w\\.-]+@[\\w\\.-]+\\.\\w{2,}\\b', '<EMAIL>', text)\n",
        "    text = re.sub(r'(https?://\\S+|www\\.\\S+)', '<URL>', text)\n",
        "    text = re.sub(r'(\\+?\\d{1,3}[\\s-]?)?(\\d{3}[\\s-]?\\d{3}[\\s-]?\\d{4})\\b', '<PHONE>', text)\n",
        "    return text\n",
        "sample = \"Contact me at john.doe@example.com or visit https://example.com. My number is +91 9876543210 or 123-456-7890.\"\n",
        "print(clean_text(sample))\n"
      ],
      "metadata": {
        "colab": {
          "base_uri": "https://localhost:8080/"
        },
        "id": "AyEDJKbzisu2",
        "outputId": "dc3363ba-0221-4b28-fd3c-8c902c1053dd"
      },
      "execution_count": 11,
      "outputs": [
        {
          "output_type": "stream",
          "name": "stdout",
          "text": [
            "Contact me at <EMAIL> or visit <URL> My number is <PHONE> or <PHONE>.\n"
          ]
        }
      ]
    }
  ]
}